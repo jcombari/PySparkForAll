{
 "cells": [
  {
   "cell_type": "markdown",
   "id": "ab10d6b1-09d4-4b35-b837-019fd9b87e4f",
   "metadata": {},
   "source": []
  },
  {
   "cell_type": "code",
   "execution_count": 2,
   "id": "5c8e953f-4344-4003-b61d-c24ab96a2243",
   "metadata": {},
   "outputs": [
    {
     "name": "stdout",
     "output_type": "stream",
     "text": [
      "Collecting pyspark\n",
      "  Downloading pyspark-3.5.5.tar.gz (317.2 MB)\n",
      "     ---------------------------------------- 0.0/317.2 MB ? eta -:--:--\n",
      "      -------------------------------------- 4.7/317.2 MB 35.7 MB/s eta 0:00:09\n",
      "     - ------------------------------------ 13.4/317.2 MB 38.1 MB/s eta 0:00:08\n",
      "     -- ----------------------------------- 18.9/317.2 MB 35.0 MB/s eta 0:00:09\n",
      "     --- ---------------------------------- 28.3/317.2 MB 36.6 MB/s eta 0:00:08\n",
      "     ----- -------------------------------- 42.5/317.2 MB 42.8 MB/s eta 0:00:07\n",
      "     ------ ------------------------------- 57.7/317.2 MB 48.3 MB/s eta 0:00:06\n",
      "     -------- ----------------------------- 68.2/317.2 MB 48.8 MB/s eta 0:00:06\n",
      "     --------- ---------------------------- 78.9/317.2 MB 48.8 MB/s eta 0:00:05\n",
      "     ---------- --------------------------- 91.2/317.2 MB 50.2 MB/s eta 0:00:05\n",
      "     ------------ ------------------------ 105.6/317.2 MB 51.9 MB/s eta 0:00:05\n",
      "     ------------- ----------------------- 115.9/317.2 MB 51.7 MB/s eta 0:00:04\n",
      "     -------------- ---------------------- 126.4/317.2 MB 51.7 MB/s eta 0:00:04\n",
      "     --------------- --------------------- 137.1/317.2 MB 52.1 MB/s eta 0:00:04\n",
      "     ---------------- -------------------- 145.5/317.2 MB 51.1 MB/s eta 0:00:04\n",
      "     ----------------- ------------------- 153.6/317.2 MB 50.3 MB/s eta 0:00:04\n",
      "     ------------------- ----------------- 163.6/317.2 MB 50.0 MB/s eta 0:00:04\n",
      "     -------------------- ---------------- 172.5/317.2 MB 49.6 MB/s eta 0:00:03\n",
      "     --------------------- --------------- 181.7/317.2 MB 49.2 MB/s eta 0:00:03\n",
      "     ---------------------- -------------- 190.3/317.2 MB 48.8 MB/s eta 0:00:03\n",
      "     ----------------------- ------------- 200.0/317.2 MB 48.6 MB/s eta 0:00:03\n",
      "     ------------------------ ------------ 209.5/317.2 MB 48.3 MB/s eta 0:00:03\n",
      "     ------------------------- ----------- 214.7/317.2 MB 47.3 MB/s eta 0:00:03\n",
      "     ------------------------- ----------- 221.5/317.2 MB 46.6 MB/s eta 0:00:03\n",
      "     -------------------------- ---------- 228.6/317.2 MB 46.1 MB/s eta 0:00:02\n",
      "     --------------------------- --------- 235.1/317.2 MB 45.5 MB/s eta 0:00:02\n",
      "     ---------------------------- -------- 241.2/317.2 MB 44.8 MB/s eta 0:00:02\n",
      "     ---------------------------- -------- 246.7/317.2 MB 44.3 MB/s eta 0:00:02\n",
      "     ----------------------------- ------- 253.0/317.2 MB 43.7 MB/s eta 0:00:02\n",
      "     ------------------------------ ------ 258.7/317.2 MB 43.2 MB/s eta 0:00:02\n",
      "     ------------------------------ ------ 265.3/317.2 MB 43.0 MB/s eta 0:00:02\n",
      "     ------------------------------- ----- 271.3/317.2 MB 42.1 MB/s eta 0:00:02\n",
      "     -------------------------------- ---- 277.1/317.2 MB 42.0 MB/s eta 0:00:01\n",
      "     --------------------------------- --- 283.1/317.2 MB 42.2 MB/s eta 0:00:01\n",
      "     --------------------------------- --- 289.4/317.2 MB 41.8 MB/s eta 0:00:01\n",
      "     ---------------------------------- -- 295.4/317.2 MB 41.1 MB/s eta 0:00:01\n",
      "     ----------------------------------- - 301.5/317.2 MB 40.5 MB/s eta 0:00:01\n",
      "     ----------------------------------- - 308.3/317.2 MB 39.5 MB/s eta 0:00:01\n",
      "     ------------------------------------  314.6/317.2 MB 38.9 MB/s eta 0:00:01\n",
      "     ------------------------------------  317.2/317.2 MB 38.6 MB/s eta 0:00:01\n",
      "     ------------------------------------  317.2/317.2 MB 38.6 MB/s eta 0:00:01\n",
      "     ------------------------------------- 317.2/317.2 MB 36.2 MB/s eta 0:00:00\n",
      "  Preparing metadata (setup.py): started\n",
      "  Preparing metadata (setup.py): finished with status 'done'\n",
      "Collecting findspark\n",
      "  Downloading findspark-2.0.1-py2.py3-none-any.whl.metadata (352 bytes)\n",
      "Collecting py4j==0.10.9.7 (from pyspark)\n",
      "  Downloading py4j-0.10.9.7-py2.py3-none-any.whl.metadata (1.5 kB)\n",
      "Downloading py4j-0.10.9.7-py2.py3-none-any.whl (200 kB)\n",
      "Downloading findspark-2.0.1-py2.py3-none-any.whl (4.4 kB)\n",
      "Building wheels for collected packages: pyspark\n",
      "  Building wheel for pyspark (setup.py): started\n",
      "  Building wheel for pyspark (setup.py): still running...\n",
      "  Building wheel for pyspark (setup.py): finished with status 'done'\n",
      "  Created wheel for pyspark: filename=pyspark-3.5.5-py2.py3-none-any.whl size=317747900 sha256=fddfadfb9b29afd540ac03170eaaf33f2a561f2c4c684e30fd0ad0b38ca5d741\n",
      "  Stored in directory: c:\\users\\jenny\\appdata\\local\\pip\\cache\\wheels\\8f\\cb\\c0\\cc57eb1bf0f9dc87cdaf2b0dbac49e58a210ff68d21d6fc709\n",
      "Successfully built pyspark\n",
      "Installing collected packages: py4j, findspark, pyspark\n",
      "Successfully installed findspark-2.0.1 py4j-0.10.9.7 pyspark-3.5.5\n"
     ]
    }
   ],
   "source": [
    "!pip install pyspark findspark"
   ]
  }
 ],
 "metadata": {
  "kernelspec": {
   "display_name": "Python 3 (ipykernel)",
   "language": "python",
   "name": "python3"
  },
  "language_info": {
   "codemirror_mode": {
    "name": "ipython",
    "version": 3
   },
   "file_extension": ".py",
   "mimetype": "text/x-python",
   "name": "python",
   "nbconvert_exporter": "python",
   "pygments_lexer": "ipython3",
   "version": "3.12.3"
  }
 },
 "nbformat": 4,
 "nbformat_minor": 5
}
